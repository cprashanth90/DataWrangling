{
 "cells": [
  {
   "cell_type": "markdown",
   "metadata": {},
   "source": [
    "### Analsyis and Visualization of the Cleaned dataset"
   ]
  },
  {
   "cell_type": "markdown",
   "metadata": {},
   "source": [
    "WeRateDogs is a popular twitter account that is a dog rating agency, known for its humorous tweets and ratings online. The twitter account has roughly 7.83 million followers and has tweeted 9,856 tweets, where each tweet represents a dog's rating.\n",
    "People send in their dog photos to WeRateDogs and they publish the ratings as a tweet.\n",
    "\n",
    "We have their twitter archive downloaded as .csv file, there were 2356 tweets collected till August 1, 2017. Here, in this article I present what are some interesting things I learnt about dog ratings and just dogs in general using this twitter archive dataset."
   ]
  },
  {
   "cell_type": "markdown",
   "metadata": {},
   "source": [
    "#### Common Words"
   ]
  },
  {
   "cell_type": "markdown",
   "metadata": {},
   "source": [
    "WeRateDogs is known for their hunorous content. Were there any words common to their tweeting style? Below is a wordcloud of the common words from their tweet text."
   ]
  },
  {
   "cell_type": "markdown",
   "metadata": {},
   "source": [
    "![WordCloud](files/download.png)"
   ]
  },
  {
   "cell_type": "markdown",
   "metadata": {},
   "source": [
    "Some of the words that appear popular in the dataset are \"Mingus\" , \"Canela\", \"Jax\" (likely dog names). There are also other words such as \"Norwegian\", \"fancy\", :cream\",\"pup\",\"Bear\""
   ]
  },
  {
   "cell_type": "markdown",
   "metadata": {},
   "source": [
    "#### Doggos are rated the best"
   ]
  },
  {
   "cell_type": "markdown",
   "metadata": {},
   "source": [
    "According to DoggoLingo, also referred to as dog-speak, there are certain labels to describe age and characteristic of a dog. For example, \"pupper\" is derived from the word puppy to refer to a young dog. Floofers are dogs with a fluffy coat.\n",
    "Looking at the ratings, we do see that Doggos are rated the best, followed shortly by puppos. The average ratings for doggos are roughly around the 12 mark, puppos follow closely.\n",
    "\n",
    "![Boxplot2](Boxplot1.png)"
   ]
  },
  {
   "cell_type": "markdown",
   "metadata": {},
   "source": [
    "**Are tweets with better rated dogs retweeted better? and are these tweets liked more??**"
   ]
  },
  {
   "cell_type": "markdown",
   "metadata": {},
   "source": [
    "The online community is a weird place, it is very hard to predict what tweets attract the public more. Humorous content sells better online, they serve well especially for Memes. Since, WeRateDogs is all about dog ratings, let us find if retweets have to do anything with the rating a dog received. The chart below tells us that the lower the rating of the dog, the lesser the frequency of retweets. Dogs that are rated between rating values of 8-12 have received high retweet counts. We see the same trend with the number of likes a tweet received."
   ]
  },
  {
   "cell_type": "markdown",
   "metadata": {},
   "source": [
    "![Distribution](files/RetweetDistribution.png)"
   ]
  },
  {
   "cell_type": "markdown",
   "metadata": {},
   "source": [
    "![LikesDistribution](files/LikesDistribution.png)"
   ]
  },
  {
   "cell_type": "markdown",
   "metadata": {},
   "source": [
    "### Predicted Dog breeds that have a high rating"
   ]
  },
  {
   "cell_type": "markdown",
   "metadata": {},
   "source": [
    "#### Golden Retriever is a good dog, Brent"
   ]
  },
  {
   "cell_type": "markdown",
   "metadata": {},
   "source": [
    "The twitter archive with all the tweet images was run through a Neural Network model to predict the breed of a dog/animal in the image. There were certain images in the twitter archive where people had sent images of bears. The neural network model classifies what the breed/animal is just taking the input image. \n",
    "\n",
    "For our analyses, let us assume that the predicted dog breed is indeed the actual breed of the dog. This is a loose approximation, but however, we do get an idea of what breeds are the most cutest out there.\n",
    "\n",
    "Also, WeRateDogs have a crazy rating system where the numerator of the rating is quite frequently greater than the denominator of the rating. This is because [they're good dogs,Brent](http://knowyourmeme.com/memes/theyre-good-dogs-brent).\n",
    "\n",
    "Amongst the \"Good dogs\" (that rate above 10), we do find that Golden retriever tops the list followed by Permbroke. Roughly 70% of the Golden retrievers were given a rating above 10."
   ]
  },
  {
   "cell_type": "markdown",
   "metadata": {},
   "source": [
    "![Top5dogbreeds2](Top5Dogbreeds.png)"
   ]
  },
  {
   "cell_type": "markdown",
   "metadata": {},
   "source": [
    "### Naming your dog? Here is the popular names"
   ]
  },
  {
   "cell_type": "markdown",
   "metadata": {},
   "source": [
    "Naming your kid or your dog can be a particularly painful task. The WeRateDogs twitter archive serves as a good reference for dog names. \n",
    "\n",
    "Here are some of the common dog names I found:\n",
    "\n",
    "Oliver <br>\n",
    "Cooper <br>\n",
    "Lucy <br>\n",
    "Charlie <br>\n",
    "Tucker <br>\n",
    "Penny <br>\n",
    "Bo <br>\n",
    "Lola <br>\n",
    "Winston <br>"
   ]
  },
  {
   "cell_type": "markdown",
   "metadata": {},
   "source": [
    "### Future Analysis"
   ]
  },
  {
   "cell_type": "markdown",
   "metadata": {},
   "source": [
    "In conclusion, the WeRateDogs Twitter Archive was a challenging data wrangling project and a great resource for learning more about dogs.\n",
    "\n",
    "Here are Some areas where more analysis in the future would help us understand about dogs and dog ratings and twitter in general:\n",
    "1. Analysis of Retweet data.\n",
    "2. Identifying Outlier data - WeRateDogs rate animals that are not dogs. I have not removed these from the dataset for now. In the future, it would be one focus to cull out tweets that do not pertain to other animals."
   ]
  }
 ],
 "metadata": {
  "kernelspec": {
   "display_name": "Python 3",
   "language": "python",
   "name": "python3"
  },
  "language_info": {
   "codemirror_mode": {
    "name": "ipython",
    "version": 3
   },
   "file_extension": ".py",
   "mimetype": "text/x-python",
   "name": "python",
   "nbconvert_exporter": "python",
   "pygments_lexer": "ipython3",
   "version": "3.7.2"
  }
 },
 "nbformat": 4,
 "nbformat_minor": 2
}
